{
 "cells": [
  {
   "attachments": {},
   "cell_type": "markdown",
   "metadata": {},
   "source": [
    "## Transformaciones personalizadas"
   ]
  },
  {
   "cell_type": "code",
   "execution_count": 3,
   "metadata": {},
   "outputs": [],
   "source": [
    "import torch\n",
    "from torchvision import datasets\n",
    "from torchvision.transforms import ToTensor, Lambda"
   ]
  },
  {
   "attachments": {},
   "cell_type": "markdown",
   "metadata": {},
   "source": [
    "Los datos no siempre vienen en su forma final procesada que se requiere para entrenar algoritmos de aprendizaje automático. Utilizamos transformaciones para realizar alguna manipulación de los datos y hacerlos adecuados para el entrenamiento.\n",
    "\n",
    "Todos los conjuntos de datos de TorchVision tienen dos parámetros: transform para modificar las características y target_transform para modificar las etiquetas, que aceptan funciones llamables que contienen la lógica de transformación. El módulo torchvision.transforms <https://pytorch.org/vision/stable/transforms.html>_ ofrece varias transformaciones comúnmente utilizadas de manera predeterminada.\n",
    "\n",
    "Las características de FashionMNIST están en formato de imagen PIL, y las etiquetas son números enteros. Para el entrenamiento, necesitamos las características como tensores normalizados y las etiquetas como tensores codificados en one-hot. Para realizar estas transformaciones, utilizamos ToTensor y Lambda."
   ]
  },
  {
   "cell_type": "code",
   "execution_count": 4,
   "metadata": {},
   "outputs": [],
   "source": [
    "ds = datasets.FashionMNIST(\n",
    "    root=\"data\",\n",
    "    train=True,\n",
    "    download=True,\n",
    "    transform=ToTensor(),\n",
    "    target_transform=Lambda(lambda y: torch.zeros(10, dtype=torch.float).scatter_(0, torch.tensor(y), value=1))\n",
    ")"
   ]
  },
  {
   "attachments": {},
   "cell_type": "markdown",
   "metadata": {},
   "source": [
    "ToTensor()\n",
    "-------------------------------\n",
    "ToTensor <https://pytorch.org/vision/stable/transforms.html#torchvision.transforms.ToTensor>_\n",
    "convierte una imagen PIL o un ndarray de NumPy en un FloatTensor y escala\n",
    "los valores de intensidad de píxeles de la imagen en el rango [0., 1.].\n",
    "\n",
    "\n",
    "Transformaciones Lambda\n",
    "-------------------------------\n",
    "Las transformaciones Lambda aplican cualquier función lambda definida por el usuario. Aquí, definimos una función\n",
    "para convertir el número entero en un tensor codificado en one-hot.\n",
    "Primero crea un tensor de ceros de tamaño 10 (el número de etiquetas en nuestro conjunto de datos) y llama\n",
    "a scatter_ <https://pytorch.org/docs/stable/generated/torch.Tensor.scatter_.html>_, que asigna un\n",
    "valor=1 en el índice dado por la etiqueta y."
   ]
  },
  {
   "cell_type": "code",
   "execution_count": 8,
   "metadata": {},
   "outputs": [],
   "source": [
    "target_transform = Lambda(lambda y: torch.zeros(\n",
    "    10, dtype=torch.float).scatter_(dim=0, index=torch.tensor(y), value=1))"
   ]
  }
 ],
 "metadata": {
  "kernelspec": {
   "display_name": "base",
   "language": "python",
   "name": "python3"
  },
  "language_info": {
   "codemirror_mode": {
    "name": "ipython",
    "version": 3
   },
   "file_extension": ".py",
   "mimetype": "text/x-python",
   "name": "python",
   "nbconvert_exporter": "python",
   "pygments_lexer": "ipython3",
   "version": "3.9.12"
  },
  "orig_nbformat": 4
 },
 "nbformat": 4,
 "nbformat_minor": 2
}
