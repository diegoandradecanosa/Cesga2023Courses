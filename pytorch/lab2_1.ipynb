{
 "cells": [
  {
   "cell_type": "code",
   "execution_count": 14,
   "metadata": {},
   "outputs": [
    {
     "name": "stdout",
     "output_type": "stream",
     "text": [
      "Modelo completo cargado correctamente.\n",
      "Modelo por parámetros cargado correctamente.\n"
     ]
    }
   ],
   "source": [
    "import torch\n",
    "import torch.nn as nn\n",
    "import torch.optim as optim\n",
    "import onnx\n",
    "\n",
    "# Definir un modelo sencillo\n",
    "class Model(nn.Module):\n",
    "    def __init__(self):\n",
    "        super(Model, self).__init__()\n",
    "        self.fc = nn.Linear(10, 5)\n",
    "\n",
    "    def forward(self, x):\n",
    "        return self.fc(x)\n",
    "\n",
    "# Crear una instancia del modelo\n",
    "model = Model()\n",
    "\n",
    "# Guardar y cargar el modelo completo\n",
    "torch.save(model, 'modelo_completo.pth')\n",
    "loaded_model = torch.load('modelo_completo.pth')\n",
    "print(\"Modelo completo cargado correctamente.\")\n",
    "\n",
    "# Guardar y cargar el modelo por parámetros\n",
    "torch.save(model.state_dict(), 'modelo_parametros.pth')\n",
    "loaded_model = Model()\n",
    "loaded_model.load_state_dict(torch.load('modelo_parametros.pth'))\n",
    "print(\"Modelo por parámetros cargado correctamente.\")"
   ]
  },
  {
   "cell_type": "code",
   "execution_count": 15,
   "metadata": {},
   "outputs": [],
   "source": [
    "# Guardar y cargar el modelo en formato HDF5 (utilizando h5py)\n",
    "#import h5py\n",
    "#h5file = h5py.File('modelo.h5', 'w')\n",
    "#torch.save(model.state_dict(), h5file)\n",
    "#h5file.close()#\n",
    "\n",
    "#h5file = h5py.File('modelo.h5', 'r')\n",
    "#loaded_model = Model()\n",
    "#loaded_model.load_state_dict(torch.load(h5file))\n",
    "#h5file.close()\n",
    "#print(\"Modelo en formato HDF5 cargado correctamente.\")\n"
   ]
  },
  {
   "cell_type": "code",
   "execution_count": null,
   "metadata": {},
   "outputs": [],
   "source": []
  },
  {
   "attachments": {},
   "cell_type": "markdown",
   "metadata": {},
   "source": [
    "En este ejemplo, se utiliza un modelo sencillo llamado Model que consiste en una capa lineal. Se crea una instancia del modelo.\n",
    "\n",
    "Luego, se muestra cómo guardar y cargar el modelo en diferentes formatos:\n",
    "\n",
    "    Guardar y cargar el modelo completo: Se utiliza torch.save() y torch.load() para guardar y cargar el modelo completo en el archivo \"modelo_completo.pth\". El modelo completo incluye la arquitectura, los parámetros y el estado de optimización.\n",
    "\n",
    "    Guardar y cargar el modelo por parámetros: Se utiliza torch.save() y torch.load() para guardar y cargar solo los parámetros del modelo en el archivo \"modelo_parametros.pth\". En este caso, se crea una instancia vacía del modelo y se carga solo los parámetros guardados.\n",
    "\n",
    "    Guardar y cargar el modelo en formato ONNX: Se utiliza torch.onnx.export() para exportar el modelo en formato ONNX, que es un formato interoperable y portable. Se guarda en el archivo \"modelo.onnx\" y se carga utilizando torch.onnx.load().\n",
    "\n",
    "    Guardar y cargar el modelo en formato HDF5 (utilizando h5py): Se utiliza la biblioteca h5py para guardar y cargar el modelo en formato HDF5. Primero, se crea un archivo HDF5 llamado \"modelo.h5\" y se guarda el estado de los parámetros del modelo. Luego, se carga el modelo utilizando torch.load() y h5py.File().\n",
    "\n",
    "Es importante tener en cuenta que el formato ONNX y el formato HDF5 son útiles cuando se necesita interoperabilidad con otras bibliotecas o sistemas, mientras que el formato de PyTorch (.pth) es más adecuado para la carga y almacenamiento de modelos dentro del ecosistema de PyTorch."
   ]
  },
  {
   "cell_type": "code",
   "execution_count": null,
   "metadata": {},
   "outputs": [],
   "source": []
  },
  {
   "cell_type": "code",
   "execution_count": 16,
   "metadata": {},
   "outputs": [
    {
     "name": "stdout",
     "output_type": "stream",
     "text": [
      "Modelo guardado correctamente en formato PyTorch (.pth)\n",
      "Modelo cargado correctamente desde formato PyTorch (.pth)\n",
      "================ Diagnostic Run torch.onnx.export version 2.0.1 ================\n",
      "verbose: False, log level: Level.ERROR\n",
      "======================= 0 NONE 0 NOTE 0 WARNING 0 ERROR ========================\n",
      "\n",
      "Modelo convertido a formato ONNX (.onnx)\n",
      "Modelo cargado correctamente desde formato ONNX (.onnx)\n"
     ]
    }
   ],
   "source": [
    "import torch\n",
    "import torch.nn as nn\n",
    "import torch.optim as optim\n",
    "import torchvision.models as models\n",
    "import onnx\n",
    "import onnxruntime as ort\n",
    "import h5py\n",
    "\n",
    "# Definir un modelo pre-entrenado\n",
    "model = models.resnet18(pretrained=True)\n",
    "\n",
    "# Guardar el modelo en formato PyTorch (.pth)\n",
    "torch.save(model, 'modelo.pth')\n",
    "print(\"Modelo guardado correctamente en formato PyTorch (.pth)\")\n",
    "\n",
    "# Cargar el modelo en formato PyTorch (.pth)\n",
    "loaded_model = torch.load('modelo.pth')\n",
    "print(\"Modelo cargado correctamente desde formato PyTorch (.pth)\")\n",
    "\n",
    "# Convertir el modelo a formato ONNX (.onnx)\n",
    "dummy_input = torch.randn(1, 3, 224, 224)\n",
    "onnx_file = 'modelo.onnx'\n",
    "torch.onnx.export(model, dummy_input, onnx_file)\n",
    "print(\"Modelo convertido a formato ONNX (.onnx)\")\n",
    "\n",
    "# Cargar el modelo en formato ONNX (.onnx)\n",
    "loaded_onnx_model = onnx.load(onnx_file)\n",
    "ort_session = ort.InferenceSession(onnx_file)\n",
    "print(\"Modelo cargado correctamente desde formato ONNX (.onnx)\")\n",
    "\n"
   ]
  },
  {
   "cell_type": "code",
   "execution_count": 17,
   "metadata": {},
   "outputs": [
    {
     "ename": "OSError",
     "evalue": "Unable to create file (unable to truncate a file which is already open)",
     "output_type": "error",
     "traceback": [
      "\u001b[0;31m---------------------------------------------------------------------------\u001b[0m",
      "\u001b[0;31mOSError\u001b[0m                                   Traceback (most recent call last)",
      "\u001b[1;32m/Users/roberto/Documents/Git/Cesga2023Courses/pytorch/lab2_1.ipynb Celda 7\u001b[0m in \u001b[0;36m3\n\u001b[1;32m      <a href='vscode-notebook-cell:/Users/roberto/Documents/Git/Cesga2023Courses/pytorch/lab2_1.ipynb#X10sZmlsZQ%3D%3D?line=0'>1</a>\u001b[0m \u001b[39m# Guardar el modelo en formato HDF5 (.h5)\u001b[39;00m\n\u001b[1;32m      <a href='vscode-notebook-cell:/Users/roberto/Documents/Git/Cesga2023Courses/pytorch/lab2_1.ipynb#X10sZmlsZQ%3D%3D?line=1'>2</a>\u001b[0m h5_file \u001b[39m=\u001b[39m \u001b[39m'\u001b[39m\u001b[39mmodelo.h5\u001b[39m\u001b[39m'\u001b[39m\n\u001b[0;32m----> <a href='vscode-notebook-cell:/Users/roberto/Documents/Git/Cesga2023Courses/pytorch/lab2_1.ipynb#X10sZmlsZQ%3D%3D?line=2'>3</a>\u001b[0m \u001b[39mwith\u001b[39;00m h5py\u001b[39m.\u001b[39;49mFile(h5_file, \u001b[39m'\u001b[39;49m\u001b[39mw\u001b[39;49m\u001b[39m'\u001b[39;49m) \u001b[39mas\u001b[39;00m f:\n\u001b[1;32m      <a href='vscode-notebook-cell:/Users/roberto/Documents/Git/Cesga2023Courses/pytorch/lab2_1.ipynb#X10sZmlsZQ%3D%3D?line=3'>4</a>\u001b[0m     f\u001b[39m.\u001b[39mcreate_group(\u001b[39m'\u001b[39m\u001b[39mmodel\u001b[39m\u001b[39m'\u001b[39m)\n\u001b[1;32m      <a href='vscode-notebook-cell:/Users/roberto/Documents/Git/Cesga2023Courses/pytorch/lab2_1.ipynb#X10sZmlsZQ%3D%3D?line=4'>5</a>\u001b[0m     torch\u001b[39m.\u001b[39msave(model\u001b[39m.\u001b[39mstate_dict(), f[\u001b[39m'\u001b[39m\u001b[39mmodel\u001b[39m\u001b[39m'\u001b[39m])\n",
      "File \u001b[0;32m/opt/homebrew/lib/python3.10/site-packages/h5py/_hl/files.py:567\u001b[0m, in \u001b[0;36mFile.__init__\u001b[0;34m(self, name, mode, driver, libver, userblock_size, swmr, rdcc_nslots, rdcc_nbytes, rdcc_w0, track_order, fs_strategy, fs_persist, fs_threshold, fs_page_size, page_buf_size, min_meta_keep, min_raw_keep, locking, alignment_threshold, alignment_interval, meta_block_size, **kwds)\u001b[0m\n\u001b[1;32m    558\u001b[0m     fapl \u001b[39m=\u001b[39m make_fapl(driver, libver, rdcc_nslots, rdcc_nbytes, rdcc_w0,\n\u001b[1;32m    559\u001b[0m                      locking, page_buf_size, min_meta_keep, min_raw_keep,\n\u001b[1;32m    560\u001b[0m                      alignment_threshold\u001b[39m=\u001b[39malignment_threshold,\n\u001b[1;32m    561\u001b[0m                      alignment_interval\u001b[39m=\u001b[39malignment_interval,\n\u001b[1;32m    562\u001b[0m                      meta_block_size\u001b[39m=\u001b[39mmeta_block_size,\n\u001b[1;32m    563\u001b[0m                      \u001b[39m*\u001b[39m\u001b[39m*\u001b[39mkwds)\n\u001b[1;32m    564\u001b[0m     fcpl \u001b[39m=\u001b[39m make_fcpl(track_order\u001b[39m=\u001b[39mtrack_order, fs_strategy\u001b[39m=\u001b[39mfs_strategy,\n\u001b[1;32m    565\u001b[0m                      fs_persist\u001b[39m=\u001b[39mfs_persist, fs_threshold\u001b[39m=\u001b[39mfs_threshold,\n\u001b[1;32m    566\u001b[0m                      fs_page_size\u001b[39m=\u001b[39mfs_page_size)\n\u001b[0;32m--> 567\u001b[0m     fid \u001b[39m=\u001b[39m make_fid(name, mode, userblock_size, fapl, fcpl, swmr\u001b[39m=\u001b[39;49mswmr)\n\u001b[1;32m    569\u001b[0m \u001b[39mif\u001b[39;00m \u001b[39misinstance\u001b[39m(libver, \u001b[39mtuple\u001b[39m):\n\u001b[1;32m    570\u001b[0m     \u001b[39mself\u001b[39m\u001b[39m.\u001b[39m_libver \u001b[39m=\u001b[39m libver\n",
      "File \u001b[0;32m/opt/homebrew/lib/python3.10/site-packages/h5py/_hl/files.py:237\u001b[0m, in \u001b[0;36mmake_fid\u001b[0;34m(name, mode, userblock_size, fapl, fcpl, swmr)\u001b[0m\n\u001b[1;32m    235\u001b[0m     fid \u001b[39m=\u001b[39m h5f\u001b[39m.\u001b[39mcreate(name, h5f\u001b[39m.\u001b[39mACC_EXCL, fapl\u001b[39m=\u001b[39mfapl, fcpl\u001b[39m=\u001b[39mfcpl)\n\u001b[1;32m    236\u001b[0m \u001b[39melif\u001b[39;00m mode \u001b[39m==\u001b[39m \u001b[39m'\u001b[39m\u001b[39mw\u001b[39m\u001b[39m'\u001b[39m:\n\u001b[0;32m--> 237\u001b[0m     fid \u001b[39m=\u001b[39m h5f\u001b[39m.\u001b[39;49mcreate(name, h5f\u001b[39m.\u001b[39;49mACC_TRUNC, fapl\u001b[39m=\u001b[39;49mfapl, fcpl\u001b[39m=\u001b[39;49mfcpl)\n\u001b[1;32m    238\u001b[0m \u001b[39melif\u001b[39;00m mode \u001b[39m==\u001b[39m \u001b[39m'\u001b[39m\u001b[39ma\u001b[39m\u001b[39m'\u001b[39m:\n\u001b[1;32m    239\u001b[0m     \u001b[39m# Open in append mode (read/write).\u001b[39;00m\n\u001b[1;32m    240\u001b[0m     \u001b[39m# If that fails, create a new file only if it won't clobber an\u001b[39;00m\n\u001b[1;32m    241\u001b[0m     \u001b[39m# existing one (ACC_EXCL)\u001b[39;00m\n\u001b[1;32m    242\u001b[0m     \u001b[39mtry\u001b[39;00m:\n",
      "File \u001b[0;32mh5py/_objects.pyx:54\u001b[0m, in \u001b[0;36mh5py._objects.with_phil.wrapper\u001b[0;34m()\u001b[0m\n",
      "File \u001b[0;32mh5py/_objects.pyx:55\u001b[0m, in \u001b[0;36mh5py._objects.with_phil.wrapper\u001b[0;34m()\u001b[0m\n",
      "File \u001b[0;32mh5py/h5f.pyx:126\u001b[0m, in \u001b[0;36mh5py.h5f.create\u001b[0;34m()\u001b[0m\n",
      "\u001b[0;31mOSError\u001b[0m: Unable to create file (unable to truncate a file which is already open)"
     ]
    }
   ],
   "source": [
    "# Guardar el modelo en formato HDF5 (.h5)\n",
    "#h5_file = 'modelo.h5'\n",
    "#with h5py.File(h5_file, 'w') as f:\n",
    "#    f.create_group('model')\n",
    "#    torch.save(model.state_dict(), f['model'])\n",
    "#print(\"Modelo guardado correctamente en formato HDF5 (.h5)\")\n",
    "#\n",
    "## Cargar el modelo en formato HDF5 (.h5)\n",
    "#loaded_h5_model = models.resnet18(pretrained=False)\n",
    "#with h5py.File(h5_file, 'r') as f:\n",
    "#    state_dict = torch.load(f['model'], map_location=torch.device('cpu'))\n",
    "#loaded_h5_model.load_state_dict(state_dict)\n",
    "#print(\"Modelo cargado correctamente desde formato HDF5 (.h5)\")"
   ]
  },
  {
   "attachments": {},
   "cell_type": "markdown",
   "metadata": {},
   "source": [
    "En este ejemplo, se utiliza un modelo pre-entrenado ResNet-18 de torchvision como ejemplo.\n",
    "\n",
    "El código muestra cómo cargar y almacenar el modelo en los siguientes formatos:\n",
    "\n",
    "    Formato PyTorch (.pth): El modelo pre-entrenado se guarda utilizando torch.save() en el archivo \"modelo.pth\". Luego se carga utilizando torch.load().\n",
    "\n",
    "    Formato ONNX (.onnx): El modelo se convierte a formato ONNX utilizando torch.onnx.export() y se guarda en el archivo \"modelo.onnx\". Luego se carga utilizando onnx.load() y se crea una sesión de inferencia con onnxruntime.InferenceSession().\n",
    "\n",
    "    Formato HDF5 (.h5): El modelo se guarda en formato HDF5 utilizando h5py y se almacena en el archivo \"modelo.h5\". Luego se carga utilizando torch.load() y h5py.File().\n",
    "\n",
    "Es importante tener en cuenta que, al cargar modelos pre-entrenados, es posible que necesites ajustar las rutas de los archivos o realizar algunas adaptaciones adicionales según tu caso específico."
   ]
  }
 ],
 "metadata": {
  "kernelspec": {
   "display_name": "Python 3",
   "language": "python",
   "name": "python3"
  },
  "language_info": {
   "codemirror_mode": {
    "name": "ipython",
    "version": 3
   },
   "file_extension": ".py",
   "mimetype": "text/x-python",
   "name": "python",
   "nbconvert_exporter": "python",
   "pygments_lexer": "ipython3",
   "version": "3.10.6"
  },
  "orig_nbformat": 4
 },
 "nbformat": 4,
 "nbformat_minor": 2
}
