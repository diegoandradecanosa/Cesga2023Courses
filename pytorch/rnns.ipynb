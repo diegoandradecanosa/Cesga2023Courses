{
 "cells": [
  {
   "attachments": {},
   "cell_type": "markdown",
   "metadata": {},
   "source": [
    "# Recurrent Neural Networks\n",
    "\n",
    "RNNs son un tipo especial de arquitecturas de RN construida en base a bloques constructores que se conectan de forma cíclica. Es decir, reciben como entrada la salida anterior del bloque constructor. Este tipo de arquitectura trata de emular el funcionamiento de la memoria, resultando especialmente útil para aplicaciones donde la entrada se proporciona en secuencia en vez de toda al mismo tiempo. En concreto, el procesamiento del lenguajes natural, el reconocimiento de voz, o el procesamiento de señal, son aplicaciones en las que es útil un mecanismo de este tipo.\n",
    "\n",
    "En Pytorch tenemos un soporte nativo para la implementación de este tipo de redes. Por ejemplo, en el paquete torch.nn, tenemos un conjunto de bloques constructores ya implementados, útils para la construcción de este tipo de redes. En concreto:\n",
    "\n",
    "- RNN, RNNBase, RNNCell\n",
    "- LSTM, LSTMCell\n",
    "- GRU, GRUCell\n",
    "\n",
    "A continuación vamos a ver un ejemplo completo de implementación de una RNN en Pytorch."
   ]
  },
  {
   "cell_type": "code",
   "execution_count": 5,
   "metadata": {},
   "outputs": [
    {
     "name": "stdout",
     "output_type": "stream",
     "text": [
      "Epoch: 0, Loss: 3332.966796875\n",
      "Epoch: 100, Loss: 2937.9755859375\n",
      "Epoch: 200, Loss: 2651.806884765625\n",
      "Epoch: 300, Loss: 2395.025146484375\n",
      "Epoch: 400, Loss: 2163.60888671875\n",
      "Epoch: 500, Loss: 1954.666259765625\n",
      "Epoch: 600, Loss: 1765.7923583984375\n",
      "Epoch: 700, Loss: 1594.957763671875\n",
      "Epoch: 800, Loss: 1440.370361328125\n",
      "Epoch: 900, Loss: 1300.4566650390625\n",
      "Given input 50.0, predicted output: 29.38585090637207\n"
     ]
    }
   ],
   "source": [
    "import torch\n",
    "from torch import nn\n",
    "\n",
    "# Creación sintética de datos de entrada: una secuencia de números del 0 al 99\n",
    "input_data = torch.arange(0, 100, dtype=torch.float32)\n",
    "# Creación de datos de salida: una secuencia de números del 1 al 100, con el último elemento desplazado al primero\n",
    "target_data = torch.roll(input_data, shifts=-1)\n",
    "# El último elemento de la secuencia de salida es 100, que no tiene correspondencia en la secuencia de entrada\n",
    "target_data[-1] = 100.0\n",
    "\n",
    "# Cambiar la forma de los datos de entrada (batch, seq_len, input_size) (batch size es 1)\n",
    "input_data = torch.reshape(input_data, (1, -1, 1))\n",
    "target_data = torch.reshape(target_data, (1, -1, 1))\n",
    "\n",
    "class SimpleRNN(nn.Module):\n",
    "    def __init__(self):\n",
    "        super(SimpleRNN, self).__init__()\n",
    "        self.rnn = nn.RNN(\n",
    "            input_size=1,\n",
    "            hidden_size=32,     # número de unidades en la capa oculta\n",
    "            num_layers=1,       # número de capas de la RNN\n",
    "            batch_first=True,   # usamos el format (batch, seq, feature) para la entrada\n",
    "        )\n",
    "        self.out = nn.Linear(32, 1)\n",
    "\n",
    "    def forward(self, x):\n",
    "        r_out, _ = self.rnn(x, None)\n",
    "        out = self.out(r_out)\n",
    "        return out\n",
    "\n",
    "# Creación y entrenaiento del modelo\n",
    "model = SimpleRNN()\n",
    "criterion = nn.MSELoss()\n",
    "optimizer = torch.optim.Adam(model.parameters(), lr=0.001)\n",
    "\n",
    "for epoch in range(1000):\n",
    "    model.train()\n",
    "    output = model(input_data)\n",
    "    loss = criterion(output, target_data)\n",
    "    \n",
    "    optimizer.zero_grad()\n",
    "    loss.backward()\n",
    "    optimizer.step()\n",
    "    \n",
    "    if epoch % 100 == 0:\n",
    "        print(f\"Epoch: {epoch}, Loss: {loss.item()}\")\n",
    "\n",
    "# Prueba del modelo\n",
    "model.eval()\n",
    "test_input = torch.tensor([50.0]).reshape(1, 1, 1)\n",
    "print(\"Given input 50.0, predicted output:\", model(test_input).item())\n"
   ]
  }
 ],
 "metadata": {
  "kernelspec": {
   "display_name": "Python 3",
   "language": "python",
   "name": "python3"
  },
  "language_info": {
   "codemirror_mode": {
    "name": "ipython",
    "version": 3
   },
   "file_extension": ".py",
   "mimetype": "text/x-python",
   "name": "python",
   "nbconvert_exporter": "python",
   "pygments_lexer": "ipython3",
   "version": "3.10.6"
  },
  "orig_nbformat": 4
 },
 "nbformat": 4,
 "nbformat_minor": 2
}
