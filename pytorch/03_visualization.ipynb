{
 "cells": [
  {
   "attachments": {},
   "cell_type": "markdown",
   "metadata": {},
   "source": [
    "# Visualizacion de características en Pytorch"
   ]
  },
  {
   "attachments": {},
   "cell_type": "markdown",
   "metadata": {},
   "source": [
    "Este notebook muestra cómo visualizar los mapas de activación y los filtros visuales en una red neuronal convolucional básica utilizando PyTorch.\n"
   ]
  },
  {
   "cell_type": "code",
   "execution_count": 1,
   "metadata": {},
   "outputs": [],
   "source": [
    "import torch\n",
    "import torch.nn as nn\n",
    "import torchvision\n",
    "import matplotlib.pyplot as plt"
   ]
  },
  {
   "cell_type": "code",
   "execution_count": 2,
   "metadata": {},
   "outputs": [],
   "source": [
    "# Definir una red neuronal convolucional básica\n",
    "class CNN(nn.Module):\n",
    "    def __init__(self):\n",
    "        super(CNN, self).__init__()\n",
    "        self.conv1 = nn.Conv2d(3, 16, kernel_size=3, stride=1, padding=1)\n",
    "        self.relu = nn.ReLU()\n",
    "\n",
    "    def forward(self, x):\n",
    "        x = self.conv1(x)\n",
    "        x = self.relu(x)\n",
    "        return x"
   ]
  },
  {
   "cell_type": "code",
   "execution_count": 3,
   "metadata": {},
   "outputs": [
    {
     "name": "stdout",
     "output_type": "stream",
     "text": [
      "Files already downloaded and verified\n"
     ]
    }
   ],
   "source": [
    "# Cargar un conjunto de datos de ejemplo (por ejemplo, CIFAR-10)\n",
    "transform = torchvision.transforms.Compose([\n",
    "    torchvision.transforms.ToTensor(),\n",
    "])\n",
    "dataset = torchvision.datasets.CIFAR10(root='./data', train=True, download=True, transform=transform)\n",
    "dataloader = torch.utils.data.DataLoader(dataset, batch_size=1, shuffle=True)"
   ]
  },
  {
   "cell_type": "code",
   "execution_count": 4,
   "metadata": {},
   "outputs": [],
   "source": [
    "# Crear una instancia del modelo\n",
    "model = CNN()"
   ]
  },
  {
   "cell_type": "code",
   "execution_count": 5,
   "metadata": {},
   "outputs": [],
   "source": [
    "# Visualizar mapas de activación\n",
    "def visualize_activation_maps(model, image):\n",
    "    activations = []\n",
    "    def hook_fn(module, input, output):\n",
    "        activations.append(output.squeeze().detach().cpu().numpy())\n",
    "    \n",
    "    # Registrar los ganchos en las capas convolucionales\n",
    "    for module in model.modules():\n",
    "        if isinstance(module, nn.Conv2d):\n",
    "            module.register_forward_hook(hook_fn)\n",
    "    \n",
    "    # Ejecutar la imagen a través del modelo\n",
    "    with torch.no_grad():\n",
    "        model.eval()\n",
    "        model(image)\n",
    "    \n",
    "    # Visualizar los mapas de activación\n",
    "    for i, activation in enumerate(activations):\n",
    "        plt.subplot(1, len(activations), i+1)\n",
    "        plt.imshow(activation[0], cmap='gray')  # Solo mostramos el primer canal (escala de grises)\n",
    "        plt.axis('off')\n",
    "    plt.show()"
   ]
  },
  {
   "cell_type": "code",
   "execution_count": 6,
   "metadata": {},
   "outputs": [],
   "source": [
    "# Visualizar filtros visuales\n",
    "def visualize_filters(model):\n",
    "    filters = model.conv1.weight.detach().cpu().numpy()\n",
    "    for i in range(filters.shape[0]):\n",
    "        plt.subplot(4, 4, i+1)\n",
    "        plt.imshow(filters[i].transpose(1, 2, 0))\n",
    "        plt.axis('off')\n",
    "    plt.show()"
   ]
  },
  {
   "cell_type": "code",
   "execution_count": 7,
   "metadata": {},
   "outputs": [
    {
     "data": {
      "image/png": "[encoded data removed]",
      "text/plain": [
       "<Figure size 640x480 with 1 Axes>"
      ]
     },
     "metadata": {},
     "output_type": "display_data"
    },
    {
     "name": "stderr",
     "output_type": "stream",
     "text": [
      "Clipping input data to the valid range for imshow with RGB data ([0..1] for floats or [0..255] for integers).\n",
      "Clipping input data to the valid range for imshow with RGB data ([0..1] for floats or [0..255] for integers).\n",
      "Clipping input data to the valid range for imshow with RGB data ([0..1] for floats or [0..255] for integers).\n",
      "Clipping input data to the valid range for imshow with RGB data ([0..1] for floats or [0..255] for integers).\n",
      "Clipping input data to the valid range for imshow with RGB data ([0..1] for floats or [0..255] for integers).\n",
      "Clipping input data to the valid range for imshow with RGB data ([0..1] for floats or [0..255] for integers).\n",
      "Clipping input data to the valid range for imshow with RGB data ([0..1] for floats or [0..255] for integers).\n",
      "Clipping input data to the valid range for imshow with RGB data ([0..1] for floats or [0..255] for integers).\n",
      "Clipping input data to the valid range for imshow with RGB data ([0..1] for floats or [0..255] for integers).\n",
      "Clipping input data to the valid range for imshow with RGB data ([0..1] for floats or [0..255] for integers).\n",
      "Clipping input data to the valid range for imshow with RGB data ([0..1] for floats or [0..255] for integers).\n",
      "Clipping input data to the valid range for imshow with RGB data ([0..1] for floats or [0..255] for integers).\n",
      "Clipping input data to the valid range for imshow with RGB data ([0..1] for floats or [0..255] for integers).\n",
      "Clipping input data to the valid range for imshow with RGB data ([0..1] for floats or [0..255] for integers).\n",
      "Clipping input data to the valid range for imshow with RGB data ([0..1] for floats or [0..255] for integers).\n",
      "Clipping input data to the valid range for imshow with RGB data ([0..1] for floats or [0..255] for integers).\n"
     ]
    },
    {
     "data": {
      "image/png": "[encoded data removed]",
      "text/plain": [
       "<Figure size 640x480 with 16 Axes>"
      ]
     },
     "metadata": {},
     "output_type": "display_data"
    }
   ],
   "source": [
    "# Obtener una imagen de muestra\n",
    "image, _ = next(iter(dataloader))\n",
    "\n",
    "# Visualizar mapas de activación\n",
    "visualize_activation_maps(model, image)\n",
    "\n",
    "# Visualizar filtros visuales\n",
    "visualize_filters(model)"
   ]
  },
  {
   "attachments": {},
   "cell_type": "markdown",
   "metadata": {},
   "source": [
    "# Ejercicio: Visualización de mapas de activación y filtros visuales\n",
    "\n",
    "Objetivo: El objetivo de este ejercicio es comprender cómo visualizar los mapas de activación y los filtros visuales en una red neuronal convolucional básica utilizando PyTorch.\n",
    "\n",
    "Instrucciones:\n",
    "\n",
    "    1. Importa las bibliotecas necesarias, incluyendo PyTorch y matplotlib.\n",
    "    2. Crea una red neuronal convolucional básica utilizando PyTorch. Debe tener la siguiente estructura: input > conv1 > relu > pool > conv2 > relu > pool > fc > out\n",
    "        conv1 debe tener 3 canales de entrada (RGB), 16 filtros de 3x3 con stride y padding =1\n",
    "        conv 2 debe recibir 16 canales, y definir 32 filtros de tamaño 3x3 y stride y padding = 1\n",
    "        El número de clases de salida ha de ser 10\n",
    "    3. Carga una imagen de ejemplo y prepárala para la entrada a la red neuronal convolucional (imagen ```gato.png``` proporcionada)\n",
    "    4. Realiza una inferencia en la red neuronal convolucional utilizando la imagen de ejemplo.\n",
    "    5. Visualiza los filtros visuales (pesos) de las capas convolucionales de la red neuronal convolucional.\n",
    "    6. Visualiza los mapas de activación generados por cada capa convolucional para la imagen de ejemplo."
   ]
  }
 ],
 "metadata": {
  "kernelspec": {
   "display_name": "base",
   "language": "python",
   "name": "python3"
  },
  "language_info": {
   "codemirror_mode": {
    "name": "ipython",
    "version": 3
   },
   "file_extension": ".py",
   "mimetype": "text/x-python",
   "name": "python",
   "nbconvert_exporter": "python",
   "pygments_lexer": "ipython3",
   "version": "3.9.12"
  },
  "orig_nbformat": 4
 },
 "nbformat": 4,
 "nbformat_minor": 2
}
