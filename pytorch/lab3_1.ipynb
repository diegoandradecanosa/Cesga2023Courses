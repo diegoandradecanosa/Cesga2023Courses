{
 "cells": [
  {
   "attachments": {},
   "cell_type": "markdown",
   "metadata": {},
   "source": [
    "Este notebook muestra un enfoque para manejar conjuntos de datos desbalanceados utilizando el conjunto de datos MNIST como ejemplo. Primero, se cuentan el número de muestras en cada clase para identificar las clases minoritarias. Luego, se realiza un sobre-muestreo (up-sampling) para igualar el número de muestras en todas las clases utilizando la función resample de sklearn.utils. A continuación, se define un nuevo conjunto de datos equilibrado BalancedMNISTDataset que utiliza los índices de las muestras sobre-muestreadas. Finalmente, los datos equilibrados se cargan utilizando DataLoader y se itera sobre ellos."
   ]
  },
  {
   "cell_type": "code",
   "execution_count": 8,
   "metadata": {},
   "outputs": [],
   "source": [
    "import torch\n",
    "import torchvision\n",
    "import torchvision.transforms as transforms\n",
    "from sklearn.utils import resample\n",
    "from torch.utils.data import DataLoader, Dataset\n"
   ]
  },
  {
   "cell_type": "code",
   "execution_count": 9,
   "metadata": {},
   "outputs": [],
   "source": [
    "# Transformaciones de datos\n",
    "transform = transforms.Compose([\n",
    "    transforms.ToTensor(),\n",
    "    transforms.Normalize((0.5,), (0.5,))\n",
    "])"
   ]
  },
  {
   "cell_type": "code",
   "execution_count": 10,
   "metadata": {},
   "outputs": [],
   "source": [
    "# Descarga y carga del conjunto de datos MNIST\n",
    "trainset = torchvision.datasets.MNIST(root='./data', train=True, download=True, transform=transform)"
   ]
  },
  {
   "cell_type": "code",
   "execution_count": 11,
   "metadata": {},
   "outputs": [],
   "source": [
    "# Dividir el conjunto de datos en clases\n",
    "class_samples = [[] for _ in range(10)]\n",
    "for idx, (image, label) in enumerate(trainset):\n",
    "    class_samples[label].append(idx)"
   ]
  },
  {
   "cell_type": "code",
   "execution_count": 12,
   "metadata": {},
   "outputs": [
    {
     "name": "stdout",
     "output_type": "stream",
     "text": [
      "Número de muestras por clase: [5923, 6742, 5958, 6131, 5842, 5421, 5918, 6265, 5851, 5949]\n"
     ]
    }
   ],
   "source": [
    "# Contar el número de muestras en cada clase\n",
    "class_counts = [len(samples) for samples in class_samples]\n",
    "print(\"Número de muestras por clase:\", class_counts)"
   ]
  },
  {
   "cell_type": "code",
   "execution_count": 13,
   "metadata": {},
   "outputs": [],
   "source": [
    "# Rebalanceo de clases utilizando sobre-muestreo (up-sampling)\n",
    "max_samples = max(class_counts)\n",
    "resampled_samples = []\n",
    "for samples in class_samples:\n",
    "    if len(samples) < max_samples:\n",
    "        resampled_samples.extend(resample(samples, replace=True, n_samples=max_samples))\n",
    "    else:\n",
    "        resampled_samples.extend(samples)"
   ]
  },
  {
   "cell_type": "code",
   "execution_count": 14,
   "metadata": {},
   "outputs": [],
   "source": [
    "# Definir un nuevo conjunto de datos equilibrado\n",
    "class BalancedMNISTDataset(Dataset):\n",
    "    def __init__(self, dataset, resampled_samples):\n",
    "        self.dataset = dataset\n",
    "        self.resampled_samples = resampled_samples\n",
    "\n",
    "    def __getitem__(self, index):\n",
    "        original_index = self.resampled_samples[index]\n",
    "        return self.dataset[original_index]\n",
    "\n",
    "    def __len__(self):\n",
    "        return len(self.resampled_samples)\n"
   ]
  },
  {
   "cell_type": "code",
   "execution_count": 15,
   "metadata": {},
   "outputs": [],
   "source": [
    "# Crear un nuevo conjunto de datos equilibrado\n",
    "balanced_trainset = BalancedMNISTDataset(trainset, resampled_samples)\n",
    "\n",
    "# Cargar los datos equilibrados utilizando DataLoader\n",
    "batch_size = 64\n",
    "trainloader = DataLoader(balanced_trainset, batch_size=batch_size, shuffle=True)"
   ]
  },
  {
   "cell_type": "code",
   "execution_count": 16,
   "metadata": {},
   "outputs": [
    {
     "name": "stdout",
     "output_type": "stream",
     "text": [
      "Tamaño del lote: 64\n"
     ]
    }
   ],
   "source": [
    "# Iterar sobre los datos equilibrados\n",
    "for images, labels in trainloader:\n",
    "    # Aquí puedes realizar el entrenamiento de tu modelo\n",
    "    print(\"Tamaño del lote:\", len(labels))\n",
    "    break  # Detener después de mostrar un lote\n"
   ]
  },
  {
   "attachments": {},
   "cell_type": "markdown",
   "metadata": {},
   "source": [
    "Es importante destacar que este es solo un ejemplo básico de cómo manejar conjuntos de datos desbalanceados y que existen otros métodos y enfoques más sofisticados para tratar este problema, como sub-muestreo, técnicas de generación de muestras sintéticas, el uso de pesos de clase, entre otros. Los métodos adecuados pueden variar según el problema y es recomendable explorar más opciones según tu caso específico."
   ]
  }
 ],
 "metadata": {
  "kernelspec": {
   "display_name": "Python 3",
   "language": "python",
   "name": "python3"
  },
  "language_info": {
   "codemirror_mode": {
    "name": "ipython",
    "version": 3
   },
   "file_extension": ".py",
   "mimetype": "text/x-python",
   "name": "python",
   "nbconvert_exporter": "python",
   "pygments_lexer": "ipython3",
   "version": "3.10.6"
  },
  "orig_nbformat": 4
 },
 "nbformat": 4,
 "nbformat_minor": 2
}
