{
 "cells": [
  {
   "attachments": {},
   "cell_type": "markdown",
   "metadata": {},
   "source": [
    "Este notebook muestra un enfoque para manejar conjuntos de datos desbalanceados utilizando el conjunto de datos MNIST como ejemplo. Primero, se cuentan el número de muestras en cada clase para identificar las clases minoritarias. Luego, se realiza un sobre-muestreo (up-sampling) para igualar el número de muestras en todas las clases utilizando la función resample de sklearn.utils. A continuación, se define un nuevo conjunto de datos equilibrado BalancedMNISTDataset que utiliza los índices de las muestras sobre-muestreadas. Finalmente, los datos equilibrados se cargan utilizando DataLoader y se itera sobre ellos."
   ]
  },
  {
   "cell_type": "code",
   "execution_count": 8,
   "metadata": {},
   "outputs": [],
   "source": [
    "import torch\n",
    "import torchvision\n",
    "import torchvision.transforms as transforms\n",
    "from sklearn.utils import resample\n",
    "from torch.utils.data import DataLoader, Dataset\n"
   ]
  },
  {
   "cell_type": "code",
   "execution_count": 9,
   "metadata": {},
   "outputs": [],
   "source": [
    "# Transformaciones de datos\n",
    "transform = transforms.Compose([\n",
    "    transforms.ToTensor(),\n",
    "    transforms.Normalize((0.5,), (0.5,))\n",
    "])"
   ]
  },
  {
   "cell_type": "code",
   "execution_count": 10,
   "metadata": {},
   "outputs": [],
   "source": [
    "# Descarga y carga del conjunto de datos MNIST\n",
    "trainset = torchvision.datasets.MNIST(root='./data', train=True, download=True, transform=transform)"
   ]
  },
  {
   "cell_type": "code",
   "execution_count": 11,
   "metadata": {},
   "outputs": [],
   "source": [
    "# Dividir el conjunto de datos en clases\n",
    "class_samples = [[] for _ in range(10)]\n",
    "for idx, (image, label) in enumerate(trainset):\n",
    "    class_samples[label].append(idx)"
   ]
  },
  {
   "cell_type": "code",
   "execution_count": 12,
   "metadata": {},
   "outputs": [
    {
     "name": "stdout",
     "output_type": "stream",
     "text": [
      "Número de muestras por clase: [5923, 6742, 5958, 6131, 5842, 5421, 5918, 6265, 5851, 5949]\n"
     ]
    }
   ],
   "source": [
    "# Contar el número de muestras en cada clase\n",
    "class_counts = [len(samples) for samples in class_samples]\n",
    "print(\"Número de muestras por clase:\", class_counts)"
   ]
  },
  {
   "cell_type": "code",
   "execution_count": 13,
   "metadata": {},
   "outputs": [],
   "source": [
    "# Rebalanceo de clases utilizando sobre-muestreo (up-sampling)\n",
    "max_samples = max(class_counts)\n",
    "resampled_samples = []\n",
    "for samples in class_samples:\n",
    "    if len(samples) < max_samples:\n",
    "        resampled_samples.extend(resample(samples, replace=True, n_samples=max_samples))\n",
    "    else:\n",
    "        resampled_samples.extend(samples)"
   ]
  },
  {
   "cell_type": "code",
   "execution_count": 14,
   "metadata": {},
   "outputs": [],
   "source": [
    "# Definir un nuevo conjunto de datos equilibrado\n",
    "class BalancedMNISTDataset(Dataset):\n",
    "    def __init__(self, dataset, resampled_samples):\n",
    "        self.dataset = dataset\n",
    "        self.resampled_samples = resampled_samples\n",
    "\n",
    "    def __getitem__(self, index):\n",
    "        original_index = self.resampled_samples[index]\n",
    "        return self.dataset[original_index]\n",
    "\n",
    "    def __len__(self):\n",
    "        return len(self.resampled_samples)\n"
   ]
  },
  {
   "cell_type": "code",
   "execution_count": 15,
   "metadata": {},
   "outputs": [],
   "source": [
    "# Crear un nuevo conjunto de datos equilibrado\n",
    "balanced_trainset = BalancedMNISTDataset(trainset, resampled_samples)\n",
    "\n",
    "# Cargar los datos equilibrados utilizando DataLoader\n",
    "batch_size = 64\n",
    "trainloader = DataLoader(balanced_trainset, batch_size=batch_size, shuffle=True)"
   ]
  },
  {
   "cell_type": "code",
   "execution_count": 16,
   "metadata": {},
   "outputs": [
    {
     "name": "stdout",
     "output_type": "stream",
     "text": [
      "Tamaño del lote: 64\n"
     ]
    }
   ],
   "source": [
    "# Iterar sobre los datos equilibrados\n",
    "for images, labels in trainloader:\n",
    "    # Aquí puedes realizar el entrenamiento de tu modelo\n",
    "    print(\"Tamaño del lote:\", len(labels))\n",
    "    break  # Detener después de mostrar un lote\n"
   ]
  },
  {
   "attachments": {},
   "cell_type": "markdown",
   "metadata": {},
   "source": [
    "Es importante destacar que este es solo un ejemplo básico de cómo manejar conjuntos de datos desbalanceados y que existen otros métodos y enfoques más sofisticados para tratar este problema, como sub-muestreo, técnicas de generación de muestras sintéticas, el uso de pesos de clase, entre otros. Los métodos adecuados pueden variar según el problema y es recomendable explorar más opciones según tu caso específico."
   ]
  },
  {
   "attachments": {},
   "cell_type": "markdown",
   "metadata": {},
   "source": [
    "**Ejercicio: Manejo de conjuntos de datos desbalanceados en PyTorch**\n",
    "\n",
    "1. Descarga un conjunto de datos de clasificación desbalanceado, como el conjunto de datos \"Credit Card Fraud Detection\" disponible en Kaggle: [Credit Card Fraud Detection Dataset](https://www.kaggle.com/mlg-ulb/creditcardfraud)\n",
    "\n",
    "2. Divide el conjunto de datos descargado en conjuntos de entrenamiento y prueba.\n",
    "\n",
    "3. Calcula la distribución de clases en el conjunto de entrenamiento y muestra el número de instancias para cada clase. Observa el desequilibrio de clases en el conjunto de datos.\n",
    "\n",
    "4. Implementa una estrategia para manejar el desequilibrio de clases en el conjunto de entrenamiento. Puedes utilizar alguna técnica de remuestreo, como sobremuestreo (oversampling) o submuestreo (undersampling), o una combinación de ambas. Puedes utilizar la biblioteca `imbalanced-learn` para implementar estas técnicas.\n",
    "\n",
    "5. Crea una clase personalizada llamada `MiConjuntoDeDatosBalanceado` que herede de `torch.utils.data.Dataset`. Esta clase debe cargar el conjunto de datos de entrenamiento después de aplicar la estrategia de manejo de desequilibrio de clases.\n",
    "\n",
    "6. Implementa los métodos `__len__` y `__getitem__` en la clase `MiConjuntoDeDatosBalanceado` para obtener la longitud del conjunto de datos y obtener elementos individuales.\n",
    "\n",
    "7. Crea una instancia de `MiConjuntoDeDatosBalanceado` utilizando el conjunto de datos de entrenamiento balanceado.\n",
    "\n",
    "8. Utiliza la clase `torch.utils.data.DataLoader` para crear un dataloader utilizando el conjunto de datos balanceado. Asegúrate de especificar un tamaño de lote (`batch_size`) adecuado.\n",
    "\n",
    "9. Entrena un modelo de clasificación utilizando el dataloader creado y evalúa su desempeño en el conjunto de prueba desbalanceado.\n",
    "\n",
    "**Pista**: Puedes utilizar la biblioteca `scikit-learn` y `imbalanced-learn` para realizar la división del conjunto de datos, calcular la distribución de clases y aplicar técnicas de manejo de desequilibrio de clases."
   ]
  },
  {
   "cell_type": "code",
   "execution_count": 7,
   "metadata": {},
   "outputs": [],
   "source": [
    "import torch\n",
    "from torch.utils.data import Dataset, DataLoader\n",
    "from sklearn.model_selection import train_test_split\n",
    "from imblearn.under_sampling import RandomUnderSampler\n",
    "import pandas as pd\n",
    "\n",
    "# Paso 1: Cargar el conjunto de datos \"Fraudulent Credit Card Transactions\" utilizando pandas\n",
    "df = pd.read_csv(\"creditcard.csv\")\n",
    "\n",
    "# Paso 2: Dividir el conjunto de datos en características (X) y etiquetas (y)\n",
    "X = df.drop([\"Class\"], axis=1).values\n",
    "y = df[\"Class\"].values\n",
    "\n",
    "# Paso 3: Dividir el conjunto de datos en entrenamiento y prueba\n",
    "X_train, X_test, y_train, y_test = train_test_split(X, y, test_size=0.2, random_state=42)\n",
    "\n",
    "# Paso 4: Aplicar una estrategia para manejar el desequilibrio de clases en el conjunto de entrenamiento\n",
    "undersampler = RandomUnderSampler(sampling_strategy='majority')\n",
    "X_train_resampled, y_train_resampled = undersampler.fit_resample(X_train, y_train)\n",
    "\n",
    "# Paso 5: Crear una clase personalizada para el conjunto de datos balanceado\n",
    "class MiConjuntoDeDatosBalanceado(Dataset):\n",
    "    def __init__(self, X, y):\n",
    "        self.X = torch.tensor(X, dtype=torch.float32)\n",
    "        self.y = torch.tensor(y, dtype=torch.long)\n",
    "\n",
    "    def __len__(self):\n",
    "        return len(self.X)\n",
    "\n",
    "    def __getitem__(self, idx):\n",
    "        return self.X[idx], self.y[idx]\n",
    "\n",
    "# Paso 6: Crear una instancia del conjunto de datos balanceado\n",
    "mi_conjunto_de_datos = MiConjuntoDeDatosBalanceado(X_train_resampled, y_train_resampled)\n",
    "\n",
    "# Paso 7: Crear un dataloader utilizando el conjunto de datos balanceado\n",
    "batch_size = 32\n",
    "dataloader = DataLoader(mi_conjunto_de_datos, batch_size=batch_size, shuffle=True)\n",
    "\n",
    "# Paso 8: Entrenar un modelo de clasificación utilizando el dataloader y evaluar su desempeño en el conjunto de prueba desbalanceado\n",
    "# (código para entrenar y evaluar el modelo)\n"
   ]
  }
 ],
 "metadata": {
  "kernelspec": {
   "display_name": "Python 3",
   "language": "python",
   "name": "python3"
  },
  "language_info": {
   "codemirror_mode": {
    "name": "ipython",
    "version": 3
   },
   "file_extension": ".py",
   "mimetype": "text/x-python",
   "name": "python",
   "nbconvert_exporter": "python",
   "pygments_lexer": "ipython3",
   "version": "3.9.12"
  },
  "orig_nbformat": 4
 },
 "nbformat": 4,
 "nbformat_minor": 2
}
