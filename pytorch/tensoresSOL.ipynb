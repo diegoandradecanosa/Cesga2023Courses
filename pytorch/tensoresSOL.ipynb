{
 "cells": [
  {
   "attachments": {},
   "cell_type": "markdown",
   "metadata": {},
   "source": [
    "## Tensores en Pytorch\n",
    "\n",
    "Los tensores permiten manejar en Pytorch estructuras multidimensionales con datos numéricos. Entre otras cosas permiten:\n",
    "\n",
    "    - Crear tensores con un número arbitrario de dimensiones\n",
    "        - Inicializándolos con unos valores predefinidos\n",
    "        - A partir de un ndarray de numpy\n",
    "        - Emulando la forma de otro tensor o estructura de datos\n",
    "    - Manipular los tensores\n",
    "        - Modificando alguna de sus partes de forma selectiva\n",
    "        - Cambiando su forma\n",
    "        - Combinando varios tensores\n",
    "    - Operar tensores\n",
    "        - Con otros tensores\n",
    "        - Con escalares\n",
    "        - In-place\n",
    "    - Localizar los tensores y su operación en distintos tipos de dispositivos\n",
    "    - Hacer seguimiento del gradiente de los tensores\n",
    "\n",
    "***\n",
    "\n",
    "# Comprobación de la instalación de Pytorch"
   ]
  },
  {
   "cell_type": "code",
   "execution_count": 1,
   "metadata": {},
   "outputs": [
    {
     "name": "stdout",
     "output_type": "stream",
     "text": [
      "== Versión de Pytorch ==\n",
      "2.0.1+cu117\n"
     ]
    }
   ],
   "source": [
    "import torch\n",
    "import numpy as np\n",
    "\n",
    "print(\"== Versión de Pytorch ==\")\n",
    "print(torch.__version__)"
   ]
  },
  {
   "attachments": {},
   "cell_type": "markdown",
   "metadata": {},
   "source": [
    "# Creación e inicialización de tensores"
   ]
  },
  {
   "cell_type": "code",
   "execution_count": 2,
   "metadata": {},
   "outputs": [
    {
     "name": "stdout",
     "output_type": "stream",
     "text": [
      "== Creación de tensores desde datos ==\n",
      "tensor([1, 2, 3])\n",
      "tensor([1, 2, 3])\n",
      "== Inicialización de tensores ==\n",
      "tensor([[0., 0.],\n",
      "        [0., 0.]])\n",
      "tensor([[1., 1.],\n",
      "        [1., 1.]])\n",
      "tensor([[0.7789, 0.4764],\n",
      "        [0.5926, 0.7554]])\n",
      "== Tensores más complejos ==\n",
      "Shape of tensor: torch.Size([2, 3])\n",
      "Datatype of tensor: torch.float32\n",
      "Device tensor is stored on: cpu\n",
      "tensor([[0.13, 0.42, 0.35],\n",
      "        [0.29, 0.05, 0.57]])\n",
      "tensor([[1., 1., 1.],\n",
      "        [1., 1., 1.]])\n",
      "tensor([[0., 0., 0.],\n",
      "        [0., 0., 0.]])\n",
      "== Especificación de tipo de dato y dispositivo ==\n",
      "torch.float32\n",
      "cuda:0\n"
     ]
    }
   ],
   "source": [
    "\n",
    "# Creación de tensores desde datos\n",
    "tensor_from_list = torch.tensor([1, 2, 3])\n",
    "tensor_from_numpy = torch.from_numpy(np.array([1, 2, 3]))\n",
    "print(\"== Creación de tensores desde datos ==\")\n",
    "print(tensor_from_list)\n",
    "print(tensor_from_numpy)\n",
    "\n",
    "# Inicialización de tensores\n",
    "tensor_zeros = torch.zeros(2, 2)\n",
    "tensor_ones = torch.ones(2, 2)\n",
    "tensor_random = torch.rand(2, 2)\n",
    "print(\"== Inicialización de tensores ==\")\n",
    "print(tensor_zeros)\n",
    "print(tensor_ones)\n",
    "print(tensor_random)\n",
    "\n",
    "# Tensores más complejos\n",
    "shape = (2,3,)\n",
    "rand_tensor = torch.rand(shape)\n",
    "ones_tensor = torch.ones(shape)\n",
    "zeros_tensor = torch.zeros(shape)\n",
    "print(\"== Tensores más complejos ==\")\n",
    "print(f\"Shape of tensor: {rand_tensor.shape}\")\n",
    "print(f\"Datatype of tensor: {rand_tensor.dtype}\")\n",
    "print(f\"Device tensor is stored on: {rand_tensor.device}\")\n",
    "torch.set_printoptions(precision=2)\n",
    "print(rand_tensor)\n",
    "print(ones_tensor)\n",
    "print(zeros_tensor)\n",
    "\n",
    "# Especificación de tipo de dato y dispositivo\n",
    "tensor_float = torch.tensor([1, 2, 3], dtype=torch.float32)\n",
    "tensor_gpu = torch.tensor([1, 2, 3], device=\"cuda\")\n",
    "print(\"== Especificación de tipo de dato y dispositivo ==\")\n",
    "print(tensor_float.dtype)\n",
    "print(tensor_gpu.device)\n"
   ]
  },
  {
   "attachments": {},
   "cell_type": "markdown",
   "metadata": {},
   "source": [
    "# Operación de tensores"
   ]
  },
  {
   "cell_type": "code",
   "execution_count": 3,
   "metadata": {},
   "outputs": [
    {
     "name": "stdout",
     "output_type": "stream",
     "text": [
      "== Operaciones matriciales ==\n",
      "tensor([[0.85, 0.31, 0.07],\n",
      "        [0.94, 0.24, 0.41]])\n",
      "tensor([[0.50, 0.71, 0.92, 0.84],\n",
      "        [0.79, 0.37, 0.12, 0.05],\n",
      "        [0.24, 0.67, 0.86, 0.42]])\n",
      "tensor([[0.69, 0.76, 0.87, 0.76],\n",
      "        [0.77, 1.03, 1.25, 0.98]])\n",
      "tensor([[0.85, 0.94],\n",
      "        [0.31, 0.24],\n",
      "        [0.07, 0.41]])\n",
      "== Operaciones in-place ==\n",
      "tensor([[1.70, 0.62, 0.13],\n",
      "        [1.88, 0.48, 0.82]])\n",
      "== Cambiar forma de un tensor ==\n",
      "tensor([[1.70, 0.62],\n",
      "        [0.13, 1.88],\n",
      "        [0.48, 0.82]])\n",
      "tensor([[[1.70, 0.62, 0.13],\n",
      "         [1.88, 0.48, 0.82]]])\n",
      "tensor([[1.70, 0.62, 0.13],\n",
      "        [1.88, 0.48, 0.82]])\n",
      "== Indexación ==\n",
      "tensor(2)\n",
      "tensor([2, 4])\n"
     ]
    }
   ],
   "source": [
    "# Operaciones básicas\n",
    "a = torch.tensor([1, 2, 3])\n",
    "b = torch.tensor([4, 5, 6])\n",
    "\n",
    "add = a + b\n",
    "sub = a - b\n",
    "mul = a * b\n",
    "div = a / b\n",
    "\n",
    "# Operaciones matriciales\n",
    "A = torch.rand(2, 3)\n",
    "B = torch.rand(3, 4)\n",
    "matmul = torch.matmul(A, B)\n",
    "transpose = A.t()\n",
    "a.mul_(2)\n",
    "print(\"== Operaciones matriciales ==\")\n",
    "print(A)\n",
    "print(B)\n",
    "print(matmul)\n",
    "print(transpose)\n",
    "print(\"== Operaciones in-place ==\")\n",
    "A.mul_(2)\n",
    "print(A)\n",
    "\n",
    "# Cambiar forma de un tensor\n",
    "A_reshaped = A.view(3, 2)\n",
    "A_squeezed = A.unsqueeze(0)\n",
    "A_unsqueezed = A_squeezed.squeeze(0)\n",
    "print(\"== Cambiar forma de un tensor ==\")\n",
    "print(A_reshaped)\n",
    "print(A_squeezed)\n",
    "print(A_unsqueezed)\n",
    "\n",
    "# Indexación\n",
    "first_element = a[0]\n",
    "first_two_elements = a[:2]\n",
    "print(\"== Indexación ==\")\n",
    "print(first_element)\n",
    "print(first_two_elements)\n"
   ]
  },
  {
   "attachments": {},
   "cell_type": "markdown",
   "metadata": {},
   "source": [
    "# Ubicando un tensor en un dispositivo"
   ]
  },
  {
   "cell_type": "code",
   "execution_count": 4,
   "metadata": {},
   "outputs": [],
   "source": [
    "# Comprobando si hay GPU disponible\n",
    "is_cuda_available = torch.cuda.is_available()\n",
    "\n",
    "# Moviendo tensores a GPU\n",
    "if is_cuda_available:\n",
    "    a_gpu = a.to(\"cuda\")\n",
    "    b_gpu = b.to(\"cuda\")\n",
    "\n",
    "# Realizando operaciones en GPU\n",
    "if is_cuda_available:\n",
    "    add_gpu = a_gpu + b_gpu\n"
   ]
  },
  {
   "attachments": {},
   "cell_type": "markdown",
   "metadata": {},
   "source": [
    "# Ejercicio 1\n",
    "\n",
    "Quita los comentarios y completa las partes relevantes siguiendo las indicaciones"
   ]
  },
  {
   "cell_type": "code",
   "execution_count": 2,
   "metadata": {},
   "outputs": [
    {
     "name": "stdout",
     "output_type": "stream",
     "text": [
      "tensor([[1., 1., 1., 1., 1.],\n",
      "        [1., 1., 1., 1., 1.],\n",
      "        [1., 1., 1., 1., 1.],\n",
      "        [1., 1., 1., 1., 1.],\n",
      "        [1., 1., 1., 1., 1.]])\n",
      "tensor([[1., 1., 1., 1., 1.],\n",
      "        [1., 1., 1., 1., 1.],\n",
      "        [1., 1., 1., 1., 1.],\n",
      "        [1., 1., 1., 1., 1.],\n",
      "        [1., 1., 1., 1., 1.]])\n",
      "tensor([[1., 1., 1., 1., 1.],\n",
      "        [1., 1., 1., 1., 1.],\n",
      "        [1., 1., 1., 1., 1.],\n",
      "        [1., 1., 1., 1., 1.],\n",
      "        [1., 1., 1., 1., 1.]])\n",
      "Suma: tensor(11.7130)\n",
      "Media: tensor(0.4685)\n",
      "tensor([[6., 6., 6., 6., 6.],\n",
      "        [6., 6., 6., 6., 6.],\n",
      "        [6., 6., 6., 6., 6.],\n",
      "        [6., 6., 6., 6., 6.],\n",
      "        [6., 6., 6., 6., 6.]])\n",
      "cat_result: tensor([[1., 1., 1., 2., 2., 2.],\n",
      "        [1., 1., 1., 2., 2., 2.]]) , shape: torch.Size([2, 6])\n",
      "stack_result: tensor([[[1., 1., 1.],\n",
      "         [1., 1., 1.]],\n",
      "\n",
      "        [[2., 2., 2.],\n",
      "         [2., 2., 2.]]]) , shape: torch.Size([2, 2, 3])\n"
     ]
    }
   ],
   "source": [
    "# Importamos PyTorch\n",
    "import torch\n",
    "\n",
    "# -----------------------------------------------------------\n",
    "# Crear un Tensor en PyTorch\n",
    "# -----------------------------------------------------------\n",
    "# Crea un tensor de tamaño 5x5 lleno de unos.\n",
    "\n",
    "# ESCRIBE TU CÓDIGO AQUÍ\n",
    "one_tensor = torch.ones(5, 5)\n",
    "\n",
    "# Imprime tu tensor\n",
    "print(one_tensor)\n",
    "\n",
    "\n",
    "# -----------------------------------------------------------\n",
    "# Operaciones con Tensores\n",
    "# -----------------------------------------------------------\n",
    "# Crea un tensor de tamaño 5x5 lleno de unos y un tensor de tamaño 5x5 lleno de ceros.\n",
    "# Suma ambos tensores y almacena el resultado en una nueva variable.\n",
    "\n",
    "# ESCRIBE TU CÓDIGO AQUÍ\n",
    "one_tensor = torch.ones(5, 5)\n",
    "zeros_tensor = torch.zeros(5, 5)\n",
    "sum_tensor = one_tensor + zeros_tensor\n",
    "\n",
    "# Imprime tu nuevo tensor\n",
    "print(sum_tensor)\n",
    "\n",
    "\n",
    "# -----------------------------------------------------------\n",
    "# Ejercicio 3: Redimensionar Tensores\n",
    "# -----------------------------------------------------------\n",
    "# Crea un tensor de tamaño 1x25 y redimensionalo a un tamaño de 5x5.\n",
    "\n",
    "# ESCRIBE TU CÓDIGO AQUÍ\n",
    "original_tensor = torch.ones(1, 25)\n",
    "reshaped_tensor = torch.reshape(original_tensor, (5, 5))\n",
    "\n",
    "# Imprime el tensor redimensionado\n",
    "print(reshaped_tensor)\n",
    "\n",
    "\n",
    "# -----------------------------------------------------------\n",
    "# Operaciones de Reducción\n",
    "# -----------------------------------------------------------\n",
    "# Crea un tensor de tamaño 5x5 con números aleatorios.\n",
    "# Calcula la suma y la media de los valores del tensor.\n",
    "\n",
    "# ESCRIBE TU CÓDIGO AQUÍ\n",
    "random_tensor = torch.rand(5, 5)\n",
    "sum_val = torch.sum(random_tensor)\n",
    "mean_val = torch.mean(random_tensor)\n",
    "\n",
    "# Imprime los valores de suma y media\n",
    "print(\"Suma:\", sum_val)\n",
    "print(\"Media:\", mean_val)\n",
    "\n",
    "\n",
    "# -----------------------------------------------------------\n",
    "# Propagación de Operaciones\n",
    "# -----------------------------------------------------------\n",
    "# Crea dos tensores de tamaño 5x5 llenos de unos.\n",
    "# Multiplica uno de los tensores por 5.\n",
    "# Suma ambos tensores y almacena el resultado en un nuevo tensor.\n",
    "\n",
    "# ESCRIBE TU CÓDIGO AQUÍ\n",
    "one_tensor = torch.ones(5, 5)\n",
    "another_tensor = one_tensor * 5\n",
    "# another_tensor = another_tensor + one_tensor\n",
    "sum_tensor = one_tensor + another_tensor\n",
    "\n",
    "# Imprime el resultado de la suma\n",
    "print(sum_tensor)\n",
    "\n",
    "# -----------------------------------------------------------\n",
    "# Combinar torch.cat y torch.stack\n",
    "# -----------------------------------------------------------\n",
    "# Crea dos tensores de tamaño 2x3 llenos de unos y de dos, respectivamente.\n",
    "# Primero, concatena los dos tensores a lo largo de la segunda dimensión (dim=1).\n",
    "# Luego, apila los dos tensores originales a lo largo de una nueva dimensión al principio.\n",
    "# Finalmente, compara las formas de los tensores resultantes.\n",
    "\n",
    "# ESCRIBE TU CÓDIGO AQUÍ\n",
    "tensor1 = torch.ones(2, 3)\n",
    "tensor2 = torch.ones(2, 3) * 2\n",
    "cat_result = torch.cat((tensor1, tensor2), dim=1)\n",
    "stack_result = torch.stack((tensor1, tensor2), dim=0)\n",
    "\n",
    "# Imprime los tensores resultantes y sus formas\n",
    "print(\"cat_result:\", cat_result, \", shape:\", cat_result.shape)\n",
    "print(\"stack_result:\", stack_result, \", shape:\", stack_result.shape)\n"
   ]
  },
  {
   "attachments": {},
   "cell_type": "markdown",
   "metadata": {},
   "source": [
    "# Ejercicio 2\n",
    "\n",
    "Completa las partes relevantes siguiendo las indicaciones"
   ]
  },
  {
   "cell_type": "code",
   "execution_count": 4,
   "metadata": {},
   "outputs": [
    {
     "data": {
      "image/png": "[encoded data removed]",
      "text/plain": [
       "<PIL.Image.Image image mode=RGB size=128x128 at 0x7F35BCFE33D0>"
      ]
     },
     "metadata": {},
     "output_type": "display_data"
    },
    {
     "name": "stdout",
     "output_type": "stream",
     "text": [
      "Imagen roja\n"
     ]
    },
    {
     "data": {
      "image/png": "[encoded data removed]",
      "text/plain": [
       "<PIL.Image.Image image mode=RGB size=128x128 at 0x7F35BCFE33D0>"
      ]
     },
     "metadata": {},
     "output_type": "display_data"
    },
    {
     "name": "stdout",
     "output_type": "stream",
     "text": [
      "Imagen amarilla\n"
     ]
    },
    {
     "data": {
      "image/png": "[encoded data removed]",
      "text/plain": [
       "<PIL.Image.Image image mode=RGB size=128x128 at 0x7F35BCFE33D0>"
      ]
     },
     "metadata": {},
     "output_type": "display_data"
    },
    {
     "name": "stdout",
     "output_type": "stream",
     "text": [
      "Imagen con ralla vertical blanca\n"
     ]
    },
    {
     "data": {
      "image/png": "[encoded data removed]",
      "text/plain": [
       "<PIL.Image.Image image mode=RGB size=128x128 at 0x7F35BCFE33D0>"
      ]
     },
     "metadata": {},
     "output_type": "display_data"
    },
    {
     "name": "stdout",
     "output_type": "stream",
     "text": [
      "Imagen con rallas vertical y horizontal blancas\n"
     ]
    },
    {
     "data": {
      "image/png": "[encoded data removed]",
      "text/plain": [
       "<PIL.Image.Image image mode=RGB size=128x128 at 0x7F35BCFE33D0>"
      ]
     },
     "metadata": {},
     "output_type": "display_data"
    }
   ],
   "source": [
    "import torch\n",
    "from PIL import Image\n",
    "import numpy as np\n",
    "import torchvision.transforms as T\n",
    "from IPython.display import display\n",
    "\n",
    "def displayT(timg):\n",
    "    transform = T.ToPILImage()\n",
    "    img = transform(timg)\n",
    "    display(img)\n",
    "\n",
    "# timg representa una imagen con 3 canales (RGB) de 128x128\n",
    "timg=torch.zeros(3,128,128)\n",
    "transform = T.ToPILImage()\n",
    "# Si todos los canales tienen un 0, la imagen es negra\n",
    "# Si todos los canales tienen un 1, la imagen es blanca\n",
    "# Si el canal 0 tiene un 1 y los canales 1 y 2 tienen un 0, la imagen es roja\n",
    "# Si el canal 1 tiene un 1 y los canales 0 y 2 tienen un 0, la imagen es verde\n",
    "# Si el canal 2 tiene un 1 y los canales 0 y 1 tienen un 0, la imagen es azul\n",
    "# Si los canales 0 y 1 tienesn un 1 y el canal 2 tiene un 0, la imagen es amarilla\n",
    "# Si los tres canales tienen un 1, la imagen es blanca\n",
    "# Imprimimos la imagen inicial: negra\n",
    "displayT(timg)\n",
    "\n",
    "\n",
    "# Pinta toda la imagen de rojo\n",
    "# ESCRIBE TU CÓDIGO AQUÍ\n",
    "timg[0,:,:]= 1\n",
    "print(\"Imagen roja\")\n",
    "displayT(timg)\n",
    "\n",
    "# Pinta toda la imagen de amarillo\n",
    "# ESCRIBE TU CÓDIGO AQUÍ\n",
    "timg[1,:,:]= 1\n",
    "print(\"Imagen amarilla\")\n",
    "displayT(timg)\n",
    "\n",
    "# Pinta una ralla vertical al medio, de dos píxeles de grosor, de color blanco\n",
    "# ESCRIBE TU CÓDIGO AQUÍ\n",
    "timg[2,:,63:65]= 1\n",
    "print(\"Imagen con ralla vertical blanca\")\n",
    "displayT(timg)\n",
    "\n",
    "# Pinta una ralla horizontal al medio, de dos píxeles de grosor, de color blanco\n",
    "# ESCRIBE TU CÓDIGO AQUÍ\n",
    "timg[2,63:65,:]= 1\n",
    "print(\"Imagen con rallas vertical y horizontal blancas\")\n",
    "displayT(timg)"
   ]
  }
 ],
 "metadata": {
  "kernelspec": {
   "display_name": "Python 3",
   "language": "python",
   "name": "python3"
  },
  "language_info": {
   "codemirror_mode": {
    "name": "ipython",
    "version": 3
   },
   "file_extension": ".py",
   "mimetype": "text/x-python",
   "name": "python",
   "nbconvert_exporter": "python",
   "pygments_lexer": "ipython3",
   "version": "3.10.6"
  },
  "orig_nbformat": 4
 },
 "nbformat": 4,
 "nbformat_minor": 2
}
